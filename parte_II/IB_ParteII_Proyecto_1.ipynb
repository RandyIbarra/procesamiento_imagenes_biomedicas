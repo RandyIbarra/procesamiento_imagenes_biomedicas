{
  "nbformat": 4,
  "nbformat_minor": 0,
  "metadata": {
    "colab": {
      "name": "IB_ParteII_Proyecto_1.ipynb",
      "provenance": [],
      "collapsed_sections": [
        "ZOXtmRduBpMc",
        "1LA6eC6OmejQ",
        "C8N-Ih7Zn07r",
        "dgdRrmCe7EUr",
        "tWQyZDFWLMke",
        "rVNJ5evV7WbM",
        "O55toy2w9mZj"
      ]
    },
    "kernelspec": {
      "name": "python3",
      "display_name": "Python 3"
    },
    "language_info": {
      "name": "python"
    }
  },
  "cells": [
    {
      "cell_type": "code",
      "metadata": {
        "id": "oXiYMr41X1wF"
      },
      "source": [
        "volume_path = 'data/NODDI_DWI.nii/NODDI_DWI.nii'\n",
        "mask_path = 'data/BRAIN_MASK.nii/BRAIN_MASK.nii'\n",
        "scheme_path = 'data/NODDI_DWI.scheme'"
      ],
      "execution_count": null,
      "outputs": []
    },
    {
      "cell_type": "markdown",
      "metadata": {
        "id": "ZOXtmRduBpMc"
      },
      "source": [
        "# Inicialización de Python\n",
        "\n",
        "Se puede omitir esta sección para revisión."
      ]
    },
    {
      "cell_type": "markdown",
      "metadata": {
        "id": "1LA6eC6OmejQ"
      },
      "source": [
        "## Colab"
      ]
    },
    {
      "cell_type": "code",
      "metadata": {
        "colab": {
          "base_uri": "https://localhost:8080/"
        },
        "id": "qNHutrAimfur",
        "outputId": "8caa58bb-e6ed-4523-81c7-93a9693a3df4"
      },
      "source": [
        "from google.colab import drive\n",
        "drive.mount('/content/drive')"
      ],
      "execution_count": null,
      "outputs": [
        {
          "output_type": "stream",
          "text": [
            "Drive already mounted at /content/drive; to attempt to forcibly remount, call drive.mount(\"/content/drive\", force_remount=True).\n"
          ],
          "name": "stdout"
        },
        {
          "output_type": "execute_result",
          "data": {
            "application/vnd.google.colaboratory.intrinsic+json": {
              "type": "string"
            },
            "text/plain": [
              "'from timeit import default_timer as timer\\nstart = timer()\\n_ = 0\\nend = timer()\\nprint(end - start)'"
            ]
          },
          "metadata": {
            "tags": []
          },
          "execution_count": 2
        }
      ]
    },
    {
      "cell_type": "code",
      "metadata": {
        "id": "UeQFCldBm4N7"
      },
      "source": [
        "import os\n",
        "os.chdir(\"/content/drive/My Drive/Colab Notebooks/imagenes_biomedicas/\")"
      ],
      "execution_count": null,
      "outputs": []
    },
    {
      "cell_type": "markdown",
      "metadata": {
        "id": "C8N-Ih7Zn07r"
      },
      "source": [
        "## Instalación de Paquetes Necesarios"
      ]
    },
    {
      "cell_type": "code",
      "metadata": {
        "colab": {
          "base_uri": "https://localhost:8080/"
        },
        "id": "bIEDpB3YjCKB",
        "outputId": "35b69b7b-cb43-4aa7-9c2f-f09ed41de8f9"
      },
      "source": [
        "!pip install nibabel dipy fury pytest nose"
      ],
      "execution_count": null,
      "outputs": [
        {
          "output_type": "stream",
          "text": [
            "Requirement already satisfied: nibabel in /usr/local/lib/python3.7/dist-packages (3.0.2)\n",
            "Requirement already satisfied: dipy in /usr/local/lib/python3.7/dist-packages (1.4.0)\n",
            "Requirement already satisfied: fury in /usr/local/lib/python3.7/dist-packages (0.7.0)\n",
            "Requirement already satisfied: pytest in /usr/local/lib/python3.7/dist-packages (3.6.4)\n",
            "Requirement already satisfied: nose in /usr/local/lib/python3.7/dist-packages (1.3.7)\n",
            "Requirement already satisfied: numpy>=1.12 in /usr/local/lib/python3.7/dist-packages (from nibabel) (1.19.5)\n",
            "Requirement already satisfied: scipy>=1.0 in /usr/local/lib/python3.7/dist-packages (from dipy) (1.4.1)\n",
            "Requirement already satisfied: tqdm>=4.30.0 in /usr/local/lib/python3.7/dist-packages (from dipy) (4.41.1)\n",
            "Requirement already satisfied: h5py>=2.5.0 in /usr/local/lib/python3.7/dist-packages (from dipy) (2.10.0)\n",
            "Requirement already satisfied: vtk!=9.0.0,>=8.1.2 in /usr/local/lib/python3.7/dist-packages (from fury) (9.0.1)\n",
            "Requirement already satisfied: pillow>=5.4.1 in /usr/local/lib/python3.7/dist-packages (from fury) (7.1.2)\n",
            "Requirement already satisfied: py>=1.5.0 in /usr/local/lib/python3.7/dist-packages (from pytest) (1.10.0)\n",
            "Requirement already satisfied: atomicwrites>=1.0 in /usr/local/lib/python3.7/dist-packages (from pytest) (1.4.0)\n",
            "Requirement already satisfied: pluggy<0.8,>=0.5 in /usr/local/lib/python3.7/dist-packages (from pytest) (0.7.1)\n",
            "Requirement already satisfied: setuptools in /usr/local/lib/python3.7/dist-packages (from pytest) (56.0.0)\n",
            "Requirement already satisfied: attrs>=17.4.0 in /usr/local/lib/python3.7/dist-packages (from pytest) (20.3.0)\n",
            "Requirement already satisfied: six>=1.10.0 in /usr/local/lib/python3.7/dist-packages (from pytest) (1.15.0)\n",
            "Requirement already satisfied: more-itertools>=4.0.0 in /usr/local/lib/python3.7/dist-packages (from pytest) (8.7.0)\n"
          ],
          "name": "stdout"
        }
      ]
    },
    {
      "cell_type": "markdown",
      "metadata": {
        "id": "dgdRrmCe7EUr"
      },
      "source": [
        "# Clase TensorModel\n",
        "\n",
        "Objeto inspirado en `TensorModel` de la librería `dti` que tiene como parámetros iniciales los vectores unitarios $g_i$ y las magnitudes $b_i$ del experimento.\n",
        "\n",
        "Dado un conjunto de volumenes de RM ponderado en difusion de hidrógeno, correspondientes a los vectores del experimento, ajusta un tensor de difusión __Gaussiano__ en cada voxel mediante mínimos cuadrádos y calcula los eigenpares de la matriz indicida por este vector de difusión usando la factorización SVD de la matriz."
      ]
    },
    {
      "cell_type": "code",
      "metadata": {
        "id": "DIhojY8y7B-o"
      },
      "source": [
        "from dipy.core.gradients import gradient_table \n",
        "import numpy as np\n",
        "import scipy\n",
        "\n",
        "import matplotlib.pyplot as plt\n",
        "from dipy.core.histeq import histeq\n",
        "\n",
        "class TensorModel():\n",
        "\n",
        "    def __init__(self, bvals, bvecs, many_magnitudes=False, index_magnitude=1):\n",
        "        \n",
        "        self.gtab = gradient_table(bvals, bvecs)\n",
        "\n",
        "        # Lista de diferentes magnitudes\n",
        "        self.b_list = np.unique(bvals)\n",
        "\n",
        "        # Indices de imagenes S_0\n",
        "        self.s_zero_indices = (bvals == self.b_list[0])\n",
        "        # Indices de imagenes S_i para primera magnitud b\n",
        "        self.volume_indices = [_ for _ in range(bvals.shape[0])]\n",
        "        if not many_magnitudes:\n",
        "            self.volume_indices = (bvals == self.b_list[index_magnitude])\n",
        "\n",
        "        #print(self.b_list)\n",
        "        #print(bvals)\n",
        "        #print(self.volume_indices)\n",
        "        #print(self.s_zero_indices)\n",
        "\n",
        "    def get_S_i_volume(self, data):\n",
        "        # Imagenes S_i\n",
        "        S_i = data[:,:,:, :,  self.volume_indices]\n",
        "        return np.array(S_i, dtype=np.float64)\n",
        "\n",
        "    def get_s_0_mean(self, data):\n",
        "        # Imagenes S_0\n",
        "        s_0_volume = data[:,:,:, :,  self.s_zero_indices]\n",
        "        # Volumen S_0 promedio enmascarado\n",
        "        S_0 = s_0_volume.transpose()\n",
        "        S_0 = S_0.sum(axis=0).transpose()\n",
        "\n",
        "        #sli = S_0.shape[2] // 2\n",
        "\n",
        "        #plt.figure('Brain segmentation')\n",
        "        #plt.subplot(1, 1, 1).set_axis_off()\n",
        "        #plt.imshow(histeq(S_0[:,:,sli,0].astype('float')).T,\n",
        "        #        cmap='gray', origin='lower')\n",
        "\n",
        "        return np.array(S_0, dtype=np.float64)\n",
        "\n",
        "    def fit(self, data):\n",
        "        \n",
        "        # S_0 promedio y S_i's\n",
        "        S_0 = self.get_s_0_mean(data)\n",
        "        S = self.get_S_i_volume(data)\n",
        "\n",
        "        # Vectores g_i y magnitudes b_i\n",
        "        bvecs = self.gtab.bvecs[self.volume_indices,:]\n",
        "        bvals = self.gtab.bvals[self.volume_indices]\n",
        "        \n",
        "        #print(\"S shape, S_0 shape, bvals shape\")\n",
        "        #print(S.shape, S_0.shape, bvals.shape, bvecs.shape)\n",
        "\n",
        "        S_0 = S_0.transpose()\n",
        "        S = S.transpose()\n",
        "\n",
        "        #print(\"S shape, S_0 shape, bvals shape\")\n",
        "        #print(S.shape, S_0.shape, bvals.shape, bvecs.shape)\n",
        "        \n",
        "        S_0_mask = (S_0 > 0.0)\n",
        "        #print(np.sum(S_0_mask))\n",
        "        quotient = np.divide(S, S_0, where=S_0_mask).transpose()\n",
        "        \n",
        "        #print(\"Quotient shape : \")\n",
        "        #print(quotient.shape)\n",
        "\n",
        "        quotient_mask = (quotient>0.0)\n",
        "        log_quotient = np.log(quotient, where=quotient_mask)\n",
        "\n",
        "        #print(\"LogQuotient shape : \")\n",
        "        #print(log_quotient.shape)\n",
        "        #print(bvals.shape)\n",
        "\n",
        "        bvals_mask = (bvals > 0.0)\n",
        "        #print(np.sum(log_quotient > 0.0))\n",
        "        S_hat = - np.divide(log_quotient, bvals, where=bvals_mask)\n",
        "        \n",
        "        #print(\"S_hat shape\")\n",
        "        #print(S_hat.shape)\n",
        "        #print(bvecs.shape)\n",
        "        # Cada fila i es G_i^T\n",
        "        G = np.column_stack((\n",
        "            bvecs[:,0] ** 2,\n",
        "            2 * bvecs[:,0] * bvecs[:,1],\n",
        "            2 * bvecs[:,0] * bvecs[:,2],\n",
        "            bvecs[:,1] ** 2,\n",
        "            2 * bvecs[:,1] * bvecs[:,2],\n",
        "            bvecs[:,2] ** 2\n",
        "        ))\n",
        "        #print(\"G shape\")\n",
        "        #print(G.shape)\n",
        "\n",
        "        G_hat = G.transpose() @ G\n",
        "        #print(\"G_hat shape\")\n",
        "        #print(G_hat.shape)\n",
        "\n",
        "        Sg_hat = np.matmul(S_hat, G)\n",
        "        #print(\"Sg_hat\")\n",
        "        #print(Sg_hat.shape)\n",
        "\n",
        "        solve = scipy.linalg.solve(G_hat, Sg_hat.transpose())\n",
        "        #print(solve.shape, type(solve))\n",
        "\n",
        "        diffusion_tensor = np.array([\n",
        "            [ solve[0 ,:,:,:,:], solve[1, :,:,:,:], solve[2, :,:,:,:] ],\n",
        "            [ solve[1 ,:,:,:,:], solve[3, :,:,:,:], solve[4, :,:,:,:] ],\n",
        "            [ solve[2 ,:,:,:,:], solve[4, :,:,:,:], solve[5, :,:,:,:] ]\n",
        "        ]).transpose()\n",
        "        #print(\"Diffusion Tensor\")\n",
        "        #print(diffusion_tensor.shape)\n",
        "        u, s, vh = np.linalg.svd(diffusion_tensor)\n",
        "\n",
        "        evals = s\n",
        "        evecs = vh\n",
        "\n",
        "        #print(diffusion_tensor.shape, evals.shape, evecs.shape)\n",
        "\n",
        "        return diffusion_tensor, evals, evecs"
      ],
      "execution_count": null,
      "outputs": []
    },
    {
      "cell_type": "markdown",
      "metadata": {
        "id": "tWQyZDFWLMke"
      },
      "source": [
        "# Lectura y preprocesamiento"
      ]
    },
    {
      "cell_type": "code",
      "metadata": {
        "id": "ytpxm29bjWGA"
      },
      "source": [
        "from dipy.io.image import load_nifti, save_nifti\n",
        "from dipy.io.gradients import read_bvals_bvecs\n",
        "import dipy.reconst.dti as dti \n",
        "\n",
        "data, affine = load_nifti(os.getcwd() + '/' + volume_path)\n",
        "mask, affine = load_nifti(os.getcwd() + '/' + mask_path)"
      ],
      "execution_count": null,
      "outputs": []
    },
    {
      "cell_type": "code",
      "metadata": {
        "id": "ri0HpLfUKwzE"
      },
      "source": [
        "# Agregamos un eje para broadcasting: (128, 128, 50) -> (128, 128, 50, 1)\n",
        "mask = mask[..., np.newaxis]\n",
        "# Multiplicacion con broadcasting: (81, 1, 50, 128,128) * (1, 50, 128,128)\n",
        "maskdata = data.transpose() * mask.transpose()\n",
        "# (81, 1, 50, 128,128) -> (128, 128, 50, 1, 81)\n",
        "maskdata = maskdata.transpose()"
      ],
      "execution_count": null,
      "outputs": []
    },
    {
      "cell_type": "code",
      "metadata": {
        "id": "WIWuU_a7k5wk"
      },
      "source": [
        "def get_bval_from_others(G, DELTA, delta, scale=True):\n",
        "    gmr = 2 * np.pi * 42.576 * 1e6 # (rad)/(sec T)\n",
        "    bval = gmr**2 * G**2 * delta**2 * (DELTA - (delta / 3)) # sec/m^2\n",
        "    if scale : \n",
        "        bval = bval * 1e-6\n",
        "    return bval"
      ],
      "execution_count": null,
      "outputs": []
    },
    {
      "cell_type": "code",
      "metadata": {
        "id": "oTI9b9FJ4VEv"
      },
      "source": [
        "\"\"\"\n",
        "Archivo en formato:\n",
        "VERSION: STEJSKALTANNER\n",
        "  g_x    g_y    g_z    G(Tesla/Metro)    DELTA    delta    TE\n",
        "  ...\n",
        "  g_x    g_y    g_z    G(Tesla/Metro)    DELTA    delta    TE\n",
        "\"\"\"\n",
        "scheme_file = open(os.getcwd() + '/' + scheme_path, \"r\")"
      ],
      "execution_count": null,
      "outputs": []
    },
    {
      "cell_type": "code",
      "metadata": {
        "id": "BEmRS7RWyj0A",
        "colab": {
          "base_uri": "https://localhost:8080/"
        },
        "outputId": "f47f8200-582c-4c41-db63-f9c3d90d20bc"
      },
      "source": [
        "bvals = []\n",
        "bvecs = []\n",
        "\n",
        "print(scheme_file.readline())\n",
        "for line in scheme_file:\n",
        "    # Lectura de parametros de maquina\n",
        "    g_x,g_y,g_z,G,delta,DELTA,TE = [np.float64(val) for val in line.split()]\n",
        "    # Vectores g_i y magnitud b_i\n",
        "    bvals.append(get_bval_from_others(G, DELTA, delta, False))\n",
        "    bvecs.append([g_x, g_y, g_z])\n",
        "\n",
        "bvals = np.array(bvals, dtype=np.float64)\n",
        "bvecs = np.array(bvecs, dtype=np.float64)"
      ],
      "execution_count": null,
      "outputs": [
        {
          "output_type": "stream",
          "text": [
            "VERSION: STEJSKALTANNER\n",
            "\n"
          ],
          "name": "stdout"
        }
      ]
    },
    {
      "cell_type": "markdown",
      "metadata": {
        "id": "rVNJ5evV7WbM"
      },
      "source": [
        "# Sin librería DTI"
      ]
    },
    {
      "cell_type": "code",
      "metadata": {
        "id": "iUN-4SCo9lzZ",
        "colab": {
          "base_uri": "https://localhost:8080/"
        },
        "outputId": "f48759c4-dbf8-48c8-e4c2-47313ad7eb1c"
      },
      "source": [
        "# Inicializacion de modelo y ajuste con volumen enmascarado\n",
        "tenmodel = TensorModel(bvals, bvecs)\n",
        "diffusion_tensor, evals, evecs = tenmodel.fit(maskdata)\n",
        "print(diffusion_tensor.shape, evals.shape, evecs.shape)"
      ],
      "execution_count": null,
      "outputs": [
        {
          "output_type": "stream",
          "text": [
            "(128, 128, 50, 1, 3, 3) (128, 128, 50, 1, 3) (128, 128, 50, 1, 3, 3)\n"
          ],
          "name": "stdout"
        }
      ]
    },
    {
      "cell_type": "code",
      "metadata": {
        "id": "IS6k-0mHHKYA"
      },
      "source": [
        "# Difusion media\n",
        "MD = evals.transpose().mean(axis = 0).transpose()\n",
        "\n",
        "# Anisotropia Fraccional\n",
        "num = (evals[:,:,:,:,0] - MD)**2\n",
        "num += (evals[:,:,:,:,1] - MD)**2\n",
        "num += (evals[:,:,:,:,2] - MD)**2\n",
        "den = evals[:,:,:,:,0]**2 + evals[:,:,:,:,1]**2 + evals[:,:,:,:,2]**2\n",
        "\n",
        "num_mask = (num > 0.0)\n",
        "FA1 = np.divide(num, den, where=num_mask) * (1.5)\n",
        "FA1 = np.sqrt(FA1)"
      ],
      "execution_count": null,
      "outputs": []
    },
    {
      "cell_type": "code",
      "metadata": {
        "id": "i6bKbDLU1vCQ"
      },
      "source": [
        "save_nifti('tensor_fa_1.nii.gz', FA1.astype(np.float32), affine)\n",
        "save_nifti('tensor_evecs_1.nii.gz', evecs.astype(np.float32), affine)"
      ],
      "execution_count": null,
      "outputs": []
    },
    {
      "cell_type": "markdown",
      "metadata": {
        "id": "O55toy2w9mZj"
      },
      "source": [
        "# Con librería DTI"
      ]
    },
    {
      "cell_type": "code",
      "metadata": {
        "id": "8OeNRqoGuSmY"
      },
      "source": [
        "# Pasamos a escala (sec / mm^2) para DIPY\n",
        "bvals = bvals * 1e-6\n",
        "# Filtramos para usar solo magnitudes b~700\n",
        "index_magnitude = 1\n",
        "b_list = np.unique(bvals)\n",
        "volume_indices = np.logical_or(bvals == 0.0, bvals == b_list[index_magnitude])\n",
        "\n",
        "bvecs = bvecs[volume_indices,:]\n",
        "bvals = bvals[volume_indices]\n",
        "maskdata = maskdata[:,:,:,:,volume_indices]"
      ],
      "execution_count": null,
      "outputs": []
    },
    {
      "cell_type": "code",
      "metadata": {
        "id": "8IyQ2h42o4o2"
      },
      "source": [
        "gtab = gradient_table(bvals, bvecs) \n",
        "tenmodel = dti.TensorModel(gtab)\n",
        "tenfit = tenmodel.fit(maskdata.squeeze())"
      ],
      "execution_count": null,
      "outputs": []
    },
    {
      "cell_type": "code",
      "metadata": {
        "id": "UuKJ9Agu-ejS"
      },
      "source": [
        "from dipy.reconst.dti import fractional_anisotropy, color_fa\n",
        "\n",
        "FA2 = fractional_anisotropy(tenfit.evals)\n",
        "FA2[np.isnan(FA2)] = 0\n",
        "FA2 = np.clip(FA2, 0, 1)\n",
        "FA2 = FA2[..., np.newaxis]"
      ],
      "execution_count": null,
      "outputs": []
    },
    {
      "cell_type": "code",
      "metadata": {
        "id": "WF5RN4lezzqN"
      },
      "source": [
        "save_nifti('tensor_fa_2.nii.gz', FA2.astype(np.float32), affine)\n",
        "save_nifti('tensor_evecs_2.nii.gz', tenfit.evecs.astype(np.float32), affine)"
      ],
      "execution_count": null,
      "outputs": []
    },
    {
      "cell_type": "markdown",
      "metadata": {
        "id": "ottwdhHGP97L"
      },
      "source": [
        "# Comparación de Resultados\n",
        "\n",
        "A continuaación se presentan los resultados obtenidos con y sin la librería `dti`\n",
        "\n",
        "* Columna Izquierda: Resultados sin `dti` en 3 tajadas.\n",
        "* Columna Derecha: Resultados con `dti` en 3 tajadas.\n"
      ]
    },
    {
      "cell_type": "code",
      "metadata": {
        "colab": {
          "base_uri": "https://localhost:8080/",
          "height": 246
        },
        "id": "9afXvywJy5mt",
        "outputId": "9cccef01-281d-475a-f21a-6a011dda3c42"
      },
      "source": [
        "import matplotlib.pyplot as plt\n",
        "from dipy.core.histeq import histeq\n",
        "\n",
        "sli = data.shape[2] // 2\n",
        "\n",
        "# Axuial\n",
        "plt.figure('Brain segmentation')\n",
        "plt.subplot(3, 2, 1).set_axis_off()\n",
        "plt.imshow(histeq(FA1[:,:,sli,0].astype('float')).T,\n",
        "           cmap='gray', origin='lower')\n",
        "\n",
        "plt.subplot(3, 2, 2).set_axis_off()\n",
        "plt.imshow(histeq(FA2[:,:,sli,0].astype('float')).T,\n",
        "           cmap='gray', origin='lower')\n",
        "\n",
        "# Coronal\n",
        "plt.subplot(3, 2, 3).set_axis_off()\n",
        "plt.imshow(histeq(FA1[:,64,:,0].astype('float')).T,\n",
        "           cmap='gray', origin='lower')\n",
        "\n",
        "plt.subplot(3, 2, 4).set_axis_off()\n",
        "plt.imshow(histeq(FA2[:,64,:,0].astype('float')).T,\n",
        "           cmap='gray', origin='lower')\n",
        "\n",
        "# Sagital\n",
        "plt.subplot(3, 2, 5).set_axis_off()\n",
        "plt.imshow(histeq(FA1[64,:,:,0].astype('float')).T,\n",
        "           cmap='gray', origin='lower')\n",
        "\n",
        "plt.subplot(3, 2, 6).set_axis_off()\n",
        "plt.imshow(histeq(FA2[64,:,:,0].astype('float')).T,\n",
        "           cmap='gray', origin='lower')\n",
        "\n",
        "plt.savefig('sDTI_cDTI.png')\n",
        "plt.show()"
      ],
      "execution_count": null,
      "outputs": [
        {
          "output_type": "display_data",
          "data": {
            "image/png": "[encoded data removed]",
            "text/plain": [
              "<Figure size 432x288 with 6 Axes>"
            ]
          },
          "metadata": {
            "tags": [],
            "needs_background": "light"
          }
        }
      ]
    },
    {
      "cell_type": "markdown",
      "metadata": {
        "id": "fnrlaLNoZ6w9"
      },
      "source": [
        "Si graficamos algunas pareja de valores de la __FA__ calculada con libreria dti y sin ella obtenemos la siguiente gráfica. Podemos notar que los puntos se concentran al rededor de la recta identidad por lo que el método implementado ofrece resultados  parecidos."
      ]
    },
    {
      "cell_type": "code",
      "metadata": {
        "colab": {
          "base_uri": "https://localhost:8080/",
          "height": 265
        },
        "id": "pptc-NykNusV",
        "outputId": "1186886f-1c63-4972-f5b8-a442f92954c7"
      },
      "source": [
        "FA1 = FA1 * mask\n",
        "FA2 = FA2 * mask\n",
        "\n",
        "plt.plot(\n",
        "    FA1[13:43, 60:90, 28:29, :].astype('float').flatten(), \n",
        "    FA2[13:43, 60:90, 28:29, :].astype('float').flatten(), \n",
        "    'ro'\n",
        ")\n",
        "plt.show()"
      ],
      "execution_count": null,
      "outputs": [
        {
          "output_type": "display_data",
          "data": {
            "image/png": "[encoded data removed]",
            "text/plain": [
              "<Figure size 432x288 with 1 Axes>"
            ]
          },
          "metadata": {
            "tags": [],
            "needs_background": "light"
          }
        }
      ]
    },
    {
      "cell_type": "markdown",
      "metadata": {
        "id": "_hVjDAQ9gdmp"
      },
      "source": [
        "# Conclusiones y comentarios\n",
        "\n",
        "En el presente proyecto, dado un conjunto de volumenes de RM ponderado en difusion de hidrógeno se ajusta un tensor de difusión __Gaussiano__ en cada voxel mediante mínimos cuadrádos y se calcula los eigenpares de la matriz indicida por este vector de difusión usando la factorización SVD de la matriz. \n",
        "\n",
        "Podemos notar que los resultados obtenidos con una implementación propia se parecen a los resultados obtenidos con la librería `dti` de `DIPY`. \n",
        "\n",
        "Los resultados se guardan en archivos en la misma carpeta del código."
      ]
    }
  ]
}